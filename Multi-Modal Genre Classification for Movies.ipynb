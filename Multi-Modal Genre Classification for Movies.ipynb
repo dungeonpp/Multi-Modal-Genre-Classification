{
 "cells": [
  {
   "cell_type": "markdown",
   "metadata": {},
   "source": [
    "**What does Multi-Modal mean?**\n",
    "\n",
    "The term Multi-Modal is used to refer to multiple kinds of data. For example, consider a YouTube video. It can be thought to contain 3 different modalities -\n",
    "\n",
    "* The video frames (visual modality)\n",
    "* The audio clip of what's being spoken (audio modality)\n",
    "* Some videos also come with the transcription of the words spoken in the form of subtitles (textual modality)\n",
    "\n",
    "Consider, that I'm interested in classifying a song on YouTube as pop or rock. You can use any of the above 3 modalities to predict the genre - The video, the song itself, or the lyrics. But, needless to say, you can predict it much better if you could use all three simultaneously. This is what we mean by multi-modal classification.\n",
    "\n",
    "Here I will make use of visual and textual data for classification of movie genres."
   ]
  },
  {
   "cell_type": "code",
   "execution_count": 1,
   "metadata": {},
   "outputs": [
    {
     "name": "stdout",
     "output_type": "stream",
     "text": [
      "Requirement already satisfied: IMDbPY in /Applications/anaconda3/lib/python3.7/site-packages (6.8)\n",
      "Requirement already satisfied: lxml in /Applications/anaconda3/lib/python3.7/site-packages (from IMDbPY) (4.5.0)\n",
      "Requirement already satisfied: SQLAlchemy in /Applications/anaconda3/lib/python3.7/site-packages (from IMDbPY) (1.3.13)\n",
      "Requirement already satisfied: tmdb3 in /Applications/anaconda3/lib/python3.7/site-packages (0.7.2)\n",
      "Requirement already satisfied: tmdbsimple in /Applications/anaconda3/lib/python3.7/site-packages (2.6.5)\n",
      "Requirement already satisfied: requests in /Applications/anaconda3/lib/python3.7/site-packages (from tmdbsimple) (2.22.0)\n",
      "Requirement already satisfied: certifi>=2017.4.17 in /Applications/anaconda3/lib/python3.7/site-packages (from requests->tmdbsimple) (2019.11.28)\n",
      "Requirement already satisfied: idna<2.9,>=2.5 in /Applications/anaconda3/lib/python3.7/site-packages (from requests->tmdbsimple) (2.8)\n",
      "Requirement already satisfied: urllib3!=1.25.0,!=1.25.1,<1.26,>=1.21.1 in /Applications/anaconda3/lib/python3.7/site-packages (from requests->tmdbsimple) (1.25.8)\n",
      "Requirement already satisfied: chardet<3.1.0,>=3.0.2 in /Applications/anaconda3/lib/python3.7/site-packages (from requests->tmdbsimple) (3.0.4)\n",
      "Requirement already satisfied: python3-wget in /Applications/anaconda3/lib/python3.7/site-packages (0.0.2b1)\n",
      "Requirement already satisfied: hurry.filesize in /Applications/anaconda3/lib/python3.7/site-packages (from python3-wget) (0.9)\n",
      "Requirement already satisfied: setuptools in /Applications/anaconda3/lib/python3.7/site-packages (from hurry.filesize->python3-wget) (46.0.0.post20200309)\n"
     ]
    }
   ],
   "source": [
    "!pip install IMDbPY\n",
    "!pip install tmdb3\n",
    "!pip install tmdbsimple\n",
    "!pip install python3-wget"
   ]
  },
  {
   "cell_type": "code",
   "execution_count": 2,
   "metadata": {},
   "outputs": [],
   "source": [
    "from urllib.request import urlopen\n",
    "import requests\n",
    "import json\n",
    "import imdb\n",
    "import time\n",
    "import itertools\n",
    "import wget\n",
    "import os\n",
    "import tmdbsimple as tmdb\n",
    "import numpy as np\n",
    "import random\n",
    "import matplotlib\n",
    "import matplotlib.pyplot as plt\n",
    "%matplotlib inline\n",
    "import seaborn as sns\n",
    "import pickle"
   ]
  },
  {
   "cell_type": "code",
   "execution_count": 3,
   "metadata": {},
   "outputs": [
    {
     "name": "stdout",
     "output_type": "stream",
     "text": [
      "Folder already exists\n"
     ]
    }
   ],
   "source": [
    "poster_folder='posters_final/'\n",
    "if poster_folder.split('/')[0] in os.listdir('./'):\n",
    "    print('Folder already exists')\n",
    "else:\n",
    "    os.mkdir('./'+poster_folder)"
   ]
  },
  {
   "cell_type": "code",
   "execution_count": 4,
   "metadata": {},
   "outputs": [
    {
     "data": {
      "text/plain": [
       "'posters_final/'"
      ]
     },
     "execution_count": 4,
     "metadata": {},
     "output_type": "execute_result"
    }
   ],
   "source": [
    "poster_folder"
   ]
  },
  {
   "cell_type": "code",
   "execution_count": 5,
   "metadata": {},
   "outputs": [],
   "source": [
    "import tmdbsimple as tmdb\n",
    "tmdb.API_KEY = '3a8a0e5191ed4a3473382568ed95d4bb'\n",
    "search = tmdb.Search()\n",
    "\n",
    "#https://api.themoviedb.org/3/search/movie?api_key=3a8a0e5191ed4a3473382568ed95d4bb&query=whiplash&language=de-DE&region=DE\n",
    "\n",
    "# These functions take in a string movie name i.e. like \"The Matrix\" or \"Interstellar\"\n",
    "# What they return is pretty much clear in the name - Poster, ID , Info or genre of the Movie!\n",
    "def grab_poster_tmdb(movie):\n",
    "    response = search.movie(query=movie)\n",
    "    id=response['results'][0]['id']\n",
    "    movie = tmdb.Movies(id)\n",
    "    posterp=movie.info()['poster_path']\n",
    "    title=movie.info()['original_title']\n",
    "    url='image.tmdb.org/t/p/original'+posterp\n",
    "    title='_'.join(title.split(' '))\n",
    "    strcmd='wget -O '+poster_folder+title+'.jpg '+url\n",
    "    os.system(strcmd)\n",
    "\n",
    "def get_movie_id_tmdb(movie):\n",
    "    response = search.movie(query=movie)\n",
    "    movie_id=response['results'][0]['id']\n",
    "    return movie_id\n",
    "\n",
    "def get_movie_info_tmdb(movie):\n",
    "    response = search.movie(query=movie)\n",
    "    id=response['results'][0]['id']\n",
    "    movie = tmdb.Movies(id)\n",
    "    info=movie.info()\n",
    "    return info\n",
    "\n",
    "def get_movie_genres_tmdb(movie):\n",
    "    response = search.movie(query=movie)\n",
    "    id=response['results'][0]['id']\n",
    "    movie = tmdb.Movies(id)\n",
    "    genres=movie.info()['genres']\n",
    "    return genres"
   ]
  },
  {
   "cell_type": "code",
   "execution_count": 6,
   "metadata": {},
   "outputs": [
    {
     "name": "stdout",
     "output_type": "stream",
     "text": [
      "[{'id': 28, 'name': 'Action'}, {'id': 878, 'name': 'Science Fiction'}]\n"
     ]
    }
   ],
   "source": [
    "print(get_movie_genres_tmdb(\"The Matrix\"))"
   ]
  },
  {
   "cell_type": "code",
   "execution_count": 7,
   "metadata": {},
   "outputs": [
    {
     "name": "stdout",
     "output_type": "stream",
     "text": [
      "Welcome to the Real World.\n"
     ]
    }
   ],
   "source": [
    "info=get_movie_info_tmdb(\"The Matrix\")\n",
    "print(info['tagline'])"
   ]
  },
  {
   "cell_type": "code",
   "execution_count": 8,
   "metadata": {},
   "outputs": [
    {
     "name": "stdout",
     "output_type": "stream",
     "text": [
      "All the information we can get about this movie from IMDB-\n"
     ]
    },
    {
     "data": {
      "text/plain": [
       "['title',\n",
       " 'kind',\n",
       " 'year',\n",
       " 'cover url',\n",
       " 'cast',\n",
       " 'genres',\n",
       " 'runtimes',\n",
       " 'countries',\n",
       " 'country codes',\n",
       " 'language codes',\n",
       " 'color info',\n",
       " 'aspect ratio',\n",
       " 'sound mix',\n",
       " 'box office',\n",
       " 'certificates',\n",
       " 'original air date',\n",
       " 'rating',\n",
       " 'votes',\n",
       " 'plot outline',\n",
       " 'languages',\n",
       " 'directors',\n",
       " 'writers',\n",
       " 'producers',\n",
       " 'composers',\n",
       " 'cinematographers',\n",
       " 'editors',\n",
       " 'editorial department',\n",
       " 'casting directors',\n",
       " 'production designers',\n",
       " 'art directors',\n",
       " 'set decorators',\n",
       " 'costume designers',\n",
       " 'make up department',\n",
       " 'production managers',\n",
       " 'assistant directors',\n",
       " 'art department',\n",
       " 'sound department',\n",
       " 'special effects',\n",
       " 'visual effects',\n",
       " 'stunts',\n",
       " 'camera department',\n",
       " 'animation department',\n",
       " 'casting department',\n",
       " 'costume departmen',\n",
       " 'location management',\n",
       " 'music department',\n",
       " 'script department',\n",
       " 'transportation department',\n",
       " 'miscellaneous',\n",
       " 'akas',\n",
       " 'writer',\n",
       " 'director',\n",
       " 'top 250 rank',\n",
       " 'production companies',\n",
       " 'distributors',\n",
       " 'special effects companies',\n",
       " 'other companies',\n",
       " 'plot',\n",
       " 'synopsis',\n",
       " 'canonical title',\n",
       " 'long imdb title',\n",
       " 'long imdb canonical title',\n",
       " 'smart canonical title',\n",
       " 'smart long imdb canonical title',\n",
       " 'full-size cover url']"
      ]
     },
     "execution_count": 8,
     "metadata": {},
     "output_type": "execute_result"
    }
   ],
   "source": [
    "# Create the IMDB object that will be used to access the IMDb's database.\n",
    "imbd_object = imdb.IMDb() # by default access the web.\n",
    "\n",
    "# Search for a movie (get a list of Movie objects).\n",
    "results = imbd_object.search_movie('The Matrix')\n",
    "\n",
    "# As this returns a list of all movies containing the word \"The Matrix\", we pick the first element\n",
    "movie = results[0]\n",
    "\n",
    "imbd_object.update(movie)\n",
    "\n",
    "print(\"All the information we can get about this movie from IMDB-\")\n",
    "movie.keys()"
   ]
  },
  {
   "cell_type": "code",
   "execution_count": 9,
   "metadata": {},
   "outputs": [
    {
     "name": "stdout",
     "output_type": "stream",
     "text": [
      "The genres associated with the movie are -  ['Action', 'Sci-Fi']\n"
     ]
    }
   ],
   "source": [
    "print(\"The genres associated with the movie are - \",movie['genres'])\n"
   ]
  },
  {
   "cell_type": "code",
   "execution_count": 10,
   "metadata": {},
   "outputs": [
    {
     "name": "stdout",
     "output_type": "stream",
     "text": [
      "The genres for The Matrix pulled from IMDB are -['Action', 'Sci-Fi']\n",
      "The genres for The Matrix pulled from TMDB are - [{'id': 28, 'name': 'Action'}, {'id': 878, 'name': 'Science Fiction'}]\n"
     ]
    }
   ],
   "source": [
    "print(\"The genres for The Matrix pulled from IMDB are -{0}\".format(movie['genres']))\n",
    "print(\"The genres for The Matrix pulled from TMDB are -\",get_movie_genres_tmdb(\"The Matrix\"))"
   ]
  },
  {
   "cell_type": "code",
   "execution_count": 11,
   "metadata": {},
   "outputs": [
    {
     "name": "stdout",
     "output_type": "stream",
     "text": [
      "20\n"
     ]
    }
   ],
   "source": [
    "all_movies=tmdb.Movies()\n",
    "top_movies=all_movies.popular()\n",
    "\n",
    "# This is a dictionary, and to access results we use the key 'results' which returns info on 20 movies\n",
    "print(len(top_movies['results']))\n",
    "top20_movs=top_movies['results']"
   ]
  },
  {
   "cell_type": "code",
   "execution_count": 12,
   "metadata": {},
   "outputs": [
    {
     "name": "stdout",
     "output_type": "stream",
     "text": [
      "Here is all the information you can get on this movie - \n",
      "{'popularity': 1102.45, 'vote_count': 134, 'video': False, 'poster_path': '/uOw5JD8IlD546feZ6oxbIjvN66P.jpg', 'id': 718444, 'adult': False, 'backdrop_path': '/x4UkhIQuHIJyeeOTdcbZ3t3gBSa.jpg', 'original_language': 'en', 'original_title': 'Rogue', 'genre_ids': [28], 'title': 'Rogue', 'vote_average': 6.1, 'overview': 'Battle-hardened O’Hara leads a lively mercenary team of soldiers on a daring mission: rescue hostages from their captors in remote Africa. But as the mission goes awry and the team is stranded, O’Hara’s squad must face a bloody, brutal encounter with a gang of rebels.', 'release_date': '2020-08-20'}\n",
      "\n",
      "\n",
      "The title of the first movie is -  Rogue\n"
     ]
    }
   ],
   "source": [
    "first_movie=top20_movs[0]\n",
    "print(\"Here is all the information you can get on this movie - \")\n",
    "print(first_movie)\n",
    "print(\"\\n\\nThe title of the first movie is - \", first_movie['title'])"
   ]
  },
  {
   "cell_type": "code",
   "execution_count": 13,
   "metadata": {},
   "outputs": [
    {
     "name": "stdout",
     "output_type": "stream",
     "text": [
      "Rogue\n",
      "Project Power\n",
      "One Night in Bangkok\n",
      "Superman: Man of Tomorrow\n",
      "Peninsula\n"
     ]
    }
   ],
   "source": [
    "for i in range(len(top20_movs)):\n",
    "    mov=top20_movs[i]\n",
    "    title=mov['title']\n",
    "    print(title)\n",
    "    if i==4:\n",
    "        break"
   ]
  },
  {
   "cell_type": "code",
   "execution_count": 14,
   "metadata": {},
   "outputs": [
    {
     "name": "stdout",
     "output_type": "stream",
     "text": [
      "[28]\n",
      "[28, 80, 878]\n",
      "[28, 53]\n",
      "[28, 16, 878]\n",
      "[28, 27, 53]\n"
     ]
    }
   ],
   "source": [
    "for i in range(len(top20_movs)):\n",
    "    mov = top20_movs[i]\n",
    "    genres = mov['genre_ids']\n",
    "    print(genres)\n",
    "    if i == 4:\n",
    "        break\n",
    "    "
   ]
  },
  {
   "cell_type": "code",
   "execution_count": 15,
   "metadata": {},
   "outputs": [],
   "source": [
    "genres = tmdb.Genres()\n",
    "list_of_genres = genres.movie_list()['genres']"
   ]
  },
  {
   "cell_type": "code",
   "execution_count": 16,
   "metadata": {},
   "outputs": [],
   "source": [
    "Genre_ID_to_name={}\n",
    "for i in range(len(list_of_genres)):\n",
    "    genre_id=list_of_genres[i]['id']\n",
    "    genre_name=list_of_genres[i]['name']\n",
    "    Genre_ID_to_name[genre_id]=genre_name"
   ]
  },
  {
   "cell_type": "code",
   "execution_count": 17,
   "metadata": {},
   "outputs": [
    {
     "name": "stdout",
     "output_type": "stream",
     "text": [
      "Rogue ['Action']\n",
      "Project Power ['Action', 'Crime', 'Science Fiction']\n",
      "One Night in Bangkok ['Action', 'Thriller']\n",
      "Superman: Man of Tomorrow ['Action', 'Animation', 'Science Fiction']\n",
      "Peninsula ['Action', 'Horror', 'Thriller']\n"
     ]
    }
   ],
   "source": [
    "for i in range(len(top20_movs)):\n",
    "    mov = top20_movs[i]\n",
    "    title = mov['title']\n",
    "    genre_ids = mov['genre_ids']\n",
    "    genre_names = []\n",
    "    for id in genre_ids:\n",
    "        genre_name = Genre_ID_to_name[id]\n",
    "        genre_names.append(genre_name)\n",
    "    print(title,genre_names)\n",
    "    if i ==4:\n",
    "        break"
   ]
  },
  {
   "cell_type": "code",
   "execution_count": 18,
   "metadata": {},
   "outputs": [
    {
     "data": {
      "text/plain": [
       "\"all_movies=tmdb.Movies()\\ntop1000_movies=[]\\nprint('Pulling movie list, Please wait...')\\nfor i in range(1,51):\\n    if i%15==0:\\n        time.sleep(7)\\n    movies_on_this_page=all_movies.popular(page=i)['results']\\n    top1000_movies.extend(movies_on_this_page)\\nlen(top1000_movies)\\nf3=open('movie_list.pckl','wb')\\npickle.dump(top1000_movies,f3)\\nf3.close()\\nprint('Done!')\""
      ]
     },
     "execution_count": 18,
     "metadata": {},
     "output_type": "execute_result"
    }
   ],
   "source": [
    "'''all_movies=tmdb.Movies()\n",
    "top1000_movies=[]\n",
    "print('Pulling movie list, Please wait...')\n",
    "for i in range(1,51):\n",
    "    if i%15==0:\n",
    "        time.sleep(7)\n",
    "    movies_on_this_page=all_movies.popular(page=i)['results']\n",
    "    top1000_movies.extend(movies_on_this_page)\n",
    "len(top1000_movies)\n",
    "f3=open('movie_list.pckl','wb')\n",
    "pickle.dump(top1000_movies,f3)\n",
    "f3.close()\n",
    "print('Done!')'''"
   ]
  },
  {
   "cell_type": "code",
   "execution_count": 19,
   "metadata": {},
   "outputs": [],
   "source": [
    "f3=open('movie_list.pckl','rb')\n",
    "top1000_movies=pickle.load(f3)\n",
    "f3.close()"
   ]
  },
  {
   "cell_type": "markdown",
   "metadata": {},
   "source": [
    "**Pairwise analysis of Movie Genres**\n",
    "\n",
    "\n",
    "As our dataset is multi label, simply looking at the ditribution of genres is not sufficient. It might be beneficial to see which genres co-occur, as it might shed some light on inherent biases in our dataset. For example, it would make sense if romance and comedy occur together more often than documentary and comedy. Such inherent biases tell us that the underlying population we are sampling from itself is skewed and not balanced. We may then take steps to account for such problems. Even if we don't take such steps, it is important to be aware that we are making the assumption that an unbalanced dataset is not hurting our performance and if need be, we can come back to address this assumption. Good old scientific method, eh?\n",
    "\n",
    "So for the top 1000 movies let's do some pairwise analysis for genre distributions. Our main purpose is to see which genres occur together in the same movie. So, we first define a function which takes a list and makes all possible pairs from it. Then, we pull the list of genres for a movie and run this function on the list of genres to get all pairs of genres which occur together"
   ]
  },
  {
   "cell_type": "code",
   "execution_count": 20,
   "metadata": {},
   "outputs": [],
   "source": [
    "def list2pairs(l):\n",
    "    # itertools.combinations(l,2) makes all pairs of length 2 from list l.\n",
    "    pairs = list(itertools.combinations(l, 2))\n",
    "    # then the one item pairs, as duplicate pairs aren't accounted for by itertools\n",
    "    for i in l:\n",
    "        pairs.append([i,i])\n",
    "    return pairs"
   ]
  },
  {
   "cell_type": "code",
   "execution_count": 21,
   "metadata": {},
   "outputs": [],
   "source": [
    "allPairs = []\n",
    "for movie in top1000_movies:\n",
    "    allPairs.extend(list2pairs(movie['genre_ids']))\n",
    "    \n",
    "nr_ids = np.unique(allPairs)\n",
    "visGrid = np.zeros((len(nr_ids), len(nr_ids)))\n",
    "for p in allPairs:\n",
    "    visGrid[np.argwhere(nr_ids==p[0]), np.argwhere(nr_ids==p[1])]+=1\n",
    "    if p[1] != p[0]:\n",
    "        visGrid[np.argwhere(nr_ids==p[1]), np.argwhere(nr_ids==p[0])]+=1"
   ]
  },
  {
   "cell_type": "markdown",
   "metadata": {},
   "source": [
    "Let's take a look at the structure we just made. It is a 19X19 structure, as shown below. Also, see that we had 19 Genres. Needless to say, this structure counts the number of simultaneous occurrences of genres in same movie.\n"
   ]
  },
  {
   "cell_type": "code",
   "execution_count": 22,
   "metadata": {},
   "outputs": [
    {
     "name": "stdout",
     "output_type": "stream",
     "text": [
      "(19, 19)\n",
      "19\n"
     ]
    }
   ],
   "source": [
    "print(visGrid.shape)\n",
    "print(len(Genre_ID_to_name.keys()))"
   ]
  },
  {
   "cell_type": "code",
   "execution_count": 23,
   "metadata": {},
   "outputs": [
    {
     "data": {
      "text/plain": [
       "<matplotlib.axes._subplots.AxesSubplot at 0x7fdcc8a007d0>"
      ]
     },
     "execution_count": 23,
     "metadata": {},
     "output_type": "execute_result"
    },
    {
     "data": {
      "image/png": "[encoded data removed]",
      "text/plain": [
       "<Figure size 432x288 with 2 Axes>"
      ]
     },
     "metadata": {
      "needs_background": "light"
     },
     "output_type": "display_data"
    }
   ],
   "source": [
    "annot_lookup = []\n",
    "for i in range(len(nr_ids)):\n",
    "    annot_lookup.append(Genre_ID_to_name[nr_ids[i]])\n",
    "\n",
    "sns.heatmap(visGrid, xticklabels=annot_lookup, yticklabels=annot_lookup)"
   ]
  },
  {
   "cell_type": "markdown",
   "metadata": {},
   "source": [
    "Important thing to notice in the above plot is the diagonal. The diagonal corresponds to self-pairs, i.e. number of times a genre, say Drama occurred with Drama. Which is basically just a count of the total times that genre occurred!\n",
    "\n",
    "As we can see there are a lot of dramas in the data set, it is also a very unspecific label. There are nearly no documentaries or TV Movies. Horror is a very distinct label, and romance is also not too widely spread."
   ]
  },
  {
   "cell_type": "code",
   "execution_count": 24,
   "metadata": {},
   "outputs": [],
   "source": [
    "from sklearn.cluster import SpectralCoclustering"
   ]
  },
  {
   "cell_type": "code",
   "execution_count": 25,
   "metadata": {},
   "outputs": [
    {
     "data": {
      "image/png": "[encoded data removed]",
      "text/plain": [
       "<Figure size 432x288 with 2 Axes>"
      ]
     },
     "metadata": {
      "needs_background": "light"
     },
     "output_type": "display_data"
    }
   ],
   "source": [
    "model = SpectralCoclustering(n_clusters=5)\n",
    "model.fit(visGrid)\n",
    "\n",
    "fit_data = visGrid[np.argsort(model.row_labels_)]\n",
    "fit_data = fit_data[:, np.argsort(model.column_labels_)]\n",
    "\n",
    "annot_lookup_sorted = []\n",
    "for i in np.argsort(model.row_labels_):\n",
    "    annot_lookup_sorted.append(Genre_ID_to_name[nr_ids[i]])\n",
    "    \n",
    "sns.heatmap(fit_data, xticklabels=annot_lookup_sorted, yticklabels=annot_lookup_sorted, annot=False)\n",
    "plt.title(\"After biclustering; rearranged to show biclusters\")\n",
    "\n",
    "plt.show()"
   ]
  },
  {
   "cell_type": "code",
   "execution_count": null,
   "metadata": {},
   "outputs": [],
   "source": []
  }
 ],
 "metadata": {
  "kernelspec": {
   "display_name": "Python 3.7.6 64-bit ('anaconda3': conda)",
   "language": "python",
   "name": "python37664bitanaconda3conda04ae0d921b264f0cb69da4c50a94eed9"
  },
  "language_info": {
   "codemirror_mode": {
    "name": "ipython",
    "version": 3
   },
   "file_extension": ".py",
   "mimetype": "text/x-python",
   "name": "python",
   "nbconvert_exporter": "python",
   "pygments_lexer": "ipython3",
   "version": "3.7.6"
  }
 },
 "nbformat": 4,
 "nbformat_minor": 4
}
